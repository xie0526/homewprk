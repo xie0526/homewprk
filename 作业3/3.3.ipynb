{
 "cells": [
  {
   "cell_type": "code",
   "execution_count": 3,
   "id": "e1456c2b-8c7b-4ddb-b98c-54377062bff8",
   "metadata": {},
   "outputs": [
    {
     "name": "stdout",
     "output_type": "stream",
     "text": [
      "True\n"
     ]
    }
   ],
   "source": [
    "import re\n",
    "\n",
    "def validate_phone_number(number):\n",
    "    pattern = r'^\\d{3}-\\d{4}-\\d{4}$'\n",
    "    if re.match(pattern, number):\n",
    "        return True\n",
    "    else:\n",
    "        return False\n",
    "\n",
    "phone_number = \"123-4528-8910\"\n",
    "is_valid = validate_phone_number(phone_number)\n",
    "print(is_valid)"
   ]
  },
  {
   "cell_type": "code",
   "execution_count": 6,
   "id": "32717826-1b17-4937-82a7-b4f76201ec83",
   "metadata": {},
   "outputs": [
    {
     "name": "stdout",
     "output_type": "stream",
     "text": [
      "True\n",
      "False\n",
      "True\n"
     ]
    }
   ],
   "source": [
    "import re\n",
    "\n",
    "def is_valid_email(email):\n",
    "    pattern = r'^[\\w\\.-]+@[\\w\\.-]+\\.\\w+$'\n",
    "    if re.match(pattern, email):\n",
    "        return True\n",
    "    else:\n",
    "        return False\n",
    "\n",
    "# 测试样例\n",
    "email1 = 'example@email.com'\n",
    "email2 = 'invalid_email@.com'\n",
    "email3 = 'another_example@gmail.com'\n",
    "\n",
    "print(is_valid_email(email1))  # 输出: True\n",
    "print(is_valid_email(email2))  # 输出: False\n",
    "print(is_valid_email(email3))  # 输出: True"
   ]
  },
  {
   "cell_type": "code",
   "execution_count": null,
   "id": "7cb0517a-7f45-4a7e-a11b-b0b9fc18a586",
   "metadata": {},
   "outputs": [],
   "source": []
  }
 ],
 "metadata": {
  "kernelspec": {
   "display_name": "Python 3 (ipykernel)",
   "language": "python",
   "name": "python3"
  },
  "language_info": {
   "codemirror_mode": {
    "name": "ipython",
    "version": 3
   },
   "file_extension": ".py",
   "mimetype": "text/x-python",
   "name": "python",
   "nbconvert_exporter": "python",
   "pygments_lexer": "ipython3",
   "version": "3.11.4"
  }
 },
 "nbformat": 4,
 "nbformat_minor": 5
}
