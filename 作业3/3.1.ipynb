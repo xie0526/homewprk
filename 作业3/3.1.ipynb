{
 "cells": [
  {
   "cell_type": "code",
   "execution_count": null,
   "id": "89153dca-673d-44fc-b18c-c075f95b3093",
   "metadata": {},
   "outputs": [],
   "source": [
    "def decimal_to_binary(a):\n",
    "    whole = int(a)\n",
    "    fraction = a - whole\n",
    "\n",
    "    whole_binary = bin(whole)[2:]\n",
    "\n",
    "    fraction_binary = \"\"\n",
    "    while fraction > 0:\n",
    "        fraction *= 2\n",
    "        bit = int(fraction)\n",
    "        fraction_binary +=str(bit)\n",
    "        fraction -= bit\n",
    "\n",
    "    return whole_binary + \".\" +fraction_binary\n",
    "\n",
    "a = input()\n",
    "binary = decimal_to_binary(a)\n",
    "print(binary)\n"
   ]
  },
  {
   "cell_type": "code",
   "execution_count": null,
   "id": "a0047fc5-b8f9-4a96-a8e8-241485916d07",
   "metadata": {},
   "outputs": [],
   "source": []
  }
 ],
 "metadata": {
  "kernelspec": {
   "display_name": "Python 3 (ipykernel)",
   "language": "python",
   "name": "python3"
  },
  "language_info": {
   "codemirror_mode": {
    "name": "ipython",
    "version": 3
   },
   "file_extension": ".py",
   "mimetype": "text/x-python",
   "name": "python",
   "nbconvert_exporter": "python",
   "pygments_lexer": "ipython3",
   "version": "3.11.4"
  }
 },
 "nbformat": 4,
 "nbformat_minor": 5
}
